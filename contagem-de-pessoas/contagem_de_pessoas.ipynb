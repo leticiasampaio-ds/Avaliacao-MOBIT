{
  "nbformat": 4,
  "nbformat_minor": 0,
  "metadata": {
    "colab": {
      "provenance": []
    },
    "kernelspec": {
      "name": "python3",
      "display_name": "Python 3"
    },
    "language_info": {
      "name": "python"
    }
  },
  "cells": [
    {
      "cell_type": "markdown",
      "source": [
        "# Instala e importa bibliotecas"
      ],
      "metadata": {
        "id": "1vq94_rpqTD7"
      }
    },
    {
      "cell_type": "code",
      "execution_count": null,
      "metadata": {
        "id": "mk2f6XYKqM45"
      },
      "outputs": [],
      "source": [
        "!pip install ultralytics"
      ]
    },
    {
      "cell_type": "code",
      "source": [
        "from ultralytics import YOLO"
      ],
      "metadata": {
        "id": "aKEZq9pJqOSv"
      },
      "execution_count": null,
      "outputs": []
    },
    {
      "cell_type": "markdown",
      "source": [
        "# Instancia modelo"
      ],
      "metadata": {
        "id": "wF1WseKgyAEe"
      }
    },
    {
      "cell_type": "code",
      "source": [
        "# Download pre-trained model\n",
        "model = YOLO('yolov8n.pt')"
      ],
      "metadata": {
        "colab": {
          "base_uri": "https://localhost:8080/"
        },
        "id": "pFjh4cUPqR3N",
        "outputId": "e8dac230-8858-4cd0-b2ed-d32a1a5631a0"
      },
      "execution_count": 3,
      "outputs": [
        {
          "output_type": "stream",
          "name": "stdout",
          "text": [
            "Downloading https://github.com/ultralytics/assets/releases/download/v8.3.0/yolov8n.pt to 'yolov8n.pt'...\n"
          ]
        },
        {
          "output_type": "stream",
          "name": "stderr",
          "text": [
            "100%|██████████| 6.25M/6.25M [00:00<00:00, 292MB/s]\n"
          ]
        }
      ]
    },
    {
      "cell_type": "markdown",
      "source": [
        "# Carrega imagem"
      ],
      "metadata": {
        "id": "jl-7dRkvxqzm"
      }
    },
    {
      "cell_type": "code",
      "source": [
        "image_path = '/content/drive/MyDrive/Colab Notebooks/people.png'"
      ],
      "metadata": {
        "id": "WXPpY0gAq5Ng"
      },
      "execution_count": 5,
      "outputs": []
    },
    {
      "cell_type": "markdown",
      "source": [
        "# Previsão"
      ],
      "metadata": {
        "id": "dU7oOHAIyEZN"
      }
    },
    {
      "cell_type": "code",
      "source": [
        "results = model.predict(image_path)"
      ],
      "metadata": {
        "colab": {
          "base_uri": "https://localhost:8080/"
        },
        "id": "mZrHLiPjyLhF",
        "outputId": "7fa7993d-cfa2-4266-bec0-23814e2aee4c"
      },
      "execution_count": 6,
      "outputs": [
        {
          "output_type": "stream",
          "name": "stdout",
          "text": [
            "\n",
            "image 1/1 /content/drive/MyDrive/Colab Notebooks/people.png: 512x640 8 persons, 364.9ms\n",
            "Speed: 23.6ms preprocess, 364.9ms inference, 35.7ms postprocess per image at shape (1, 3, 512, 640)\n"
          ]
        }
      ]
    },
    {
      "cell_type": "markdown",
      "source": [
        "# Conta quantidade de pessoa detectadas"
      ],
      "metadata": {
        "id": "-Akj_xlOyPOw"
      }
    },
    {
      "cell_type": "code",
      "source": [
        "boxes = results[0].boxes\n",
        "confidences = boxes.conf.cpu().numpy()\n",
        "labels = boxes.cls.cpu().numpy()\n",
        "\n",
        "# Cria uma máscara para as condições desejadas\n",
        "mask30 = (confidences >= 0.3) & (labels == 0)  # 0 = \"person\"\n",
        "mask80 = (confidences >= 0.8) & (labels == 0)  # 0 = \"person\"\n",
        "\n",
        "# Conta quantas detecções válidas\n",
        "person_count30 = mask30.sum()\n",
        "person_count80 = mask80.sum()\n",
        "\n",
        "print(f\"Pessoas detectadas com confidence score ≥ 30%: {person_count30}\")\n",
        "print(f\"Pessoas detectadas com confidence score ≥ 80%: {person_count80}\")"
      ],
      "metadata": {
        "colab": {
          "base_uri": "https://localhost:8080/"
        },
        "id": "pCs3SxS4yMFH",
        "outputId": "db0c78e3-7ea9-4275-c634-6e00dcdb5215"
      },
      "execution_count": 19,
      "outputs": [
        {
          "output_type": "stream",
          "name": "stdout",
          "text": [
            "People detected with confidence score ≥ 30%: 7\n",
            "People detected with confidence score ≥ 80%: 4\n"
          ]
        }
      ]
    }
  ]
}